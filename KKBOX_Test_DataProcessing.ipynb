{
 "cells": [
  {
   "cell_type": "code",
   "execution_count": 55,
   "metadata": {},
   "outputs": [],
   "source": [
    "import pandas as pd"
   ]
  },
  {
   "cell_type": "code",
   "execution_count": 56,
   "metadata": {},
   "outputs": [
    {
     "name": "stderr",
     "output_type": "stream",
     "text": [
      "C:\\Users\\admin\\Anaconda3\\envs\\tensorflow\\lib\\site-packages\\numpy\\lib\\arraysetops.py:472: FutureWarning: elementwise comparison failed; returning scalar instead, but in the future will perform elementwise comparison\n",
      "  mask |= (ar1 == a)\n"
     ]
    }
   ],
   "source": [
    "train=pd.read_csv(\"train.csv\")\n",
    "test=pd.read_csv(\"test.csv\", index_col=0)\n",
    "songs=pd.read_csv(\"songs.csv\")\n",
    "members=pd.read_csv(\"members.csv\")\n",
    "song_extra_info=pd.read_csv(\"song_extra_info.csv\")\n",
    "\n",
    "\n",
    "train=train.merge(songs, on='song_id', how='left')\n",
    "train=train.merge(members, on='msno', how='left')\n",
    "train[\"gender\"]=train[\"gender\"].map({'male':1,'female':2})\n",
    "train[\"gender\"]=train[\"gender\"].fillna(0)\n",
    "\n",
    "\n",
    "test=test.merge(songs, on='song_id', how='left')\n",
    "test=test.merge(members, on='msno', how='left')\n",
    "test[\"gender\"]=test[\"gender\"].map({'male':1,'female':2})\n",
    "test[\"gender\"]=test[\"gender\"].fillna(0)"
   ]
  },
  {
   "cell_type": "code",
   "execution_count": 57,
   "metadata": {},
   "outputs": [],
   "source": [
    "train[\"registration_init_time\"] = pd.to_datetime(train[\"registration_init_time\"],format='%Y%m%d')\n",
    "train[\"registration_init_time_year\"] = train[\"registration_init_time\"].dt.year\n",
    "train[\"registration_init_time_month\"] = train[\"registration_init_time\"].dt.month\n",
    "train[\"registration_init_time_day\"] = train[\"registration_init_time\"].dt.day\n",
    "train[\"registration_init_time_dayofweek\"] = train[\"registration_init_time\"].dt.dayofweek\n",
    "train=train.drop([\"registration_init_time\"], axis=1)\n",
    "\n",
    "\n",
    "train[\"expiration_date\"] = pd.to_datetime(train[\"expiration_date\"],format='%Y%m%d')\n",
    "train[\"expiration_date_year\"] = train[\"expiration_date\"].dt.year\n",
    "train[\"expiration_date_month\"] = train[\"expiration_date\"].dt.month\n",
    "train[\"expiration_date_day\"] = train[\"expiration_date\"].dt.day\n",
    "train[\"expiration_date_dayofweek\"] = train[\"expiration_date\"].dt.dayofweek\n",
    "train=train.drop([\"expiration_date\"], axis=1)\n",
    "\n",
    "\n",
    "test[\"registration_init_time\"] = pd.to_datetime(test[\"registration_init_time\"],format='%Y%m%d')\n",
    "test[\"registration_init_time_year\"] = test[\"registration_init_time\"].dt.year\n",
    "test[\"registration_init_time_month\"] = test[\"registration_init_time\"].dt.month\n",
    "test[\"registration_init_time_day\"] = test[\"registration_init_time\"].dt.day\n",
    "test[\"registration_init_time_dayofweek\"] = test[\"registration_init_time\"].dt.dayofweek\n",
    "test=test.drop([\"registration_init_time\"], axis=1)\n",
    "\n",
    "\n",
    "test[\"expiration_date\"] = pd.to_datetime(test[\"expiration_date\"],format='%Y%m%d')\n",
    "test[\"expiration_date_year\"] = test[\"expiration_date\"].dt.year\n",
    "test[\"expiration_date_month\"] = test[\"expiration_date\"].dt.month\n",
    "test[\"expiration_date_day\"] = test[\"expiration_date\"].dt.day\n",
    "test[\"expiration_date_dayofweek\"] = test[\"expiration_date\"].dt.dayofweek\n",
    "test=test.drop([\"expiration_date\"], axis=1)"
   ]
  },
  {
   "cell_type": "code",
   "execution_count": 58,
   "metadata": {},
   "outputs": [],
   "source": [
    "temp=pd.concat([train['source_system_tab'],test['source_system_tab']],axis=0)\n",
    "temp = temp.value_counts().rename_axis('source_system_tab').reset_index(name='Number')\n",
    "mapmap={}\n",
    "for i in range(temp.shape[0]):\n",
    "    mapmap[temp[\"source_system_tab\"][i]]=i+1\n",
    "train[\"source_system_tab\"]=train[\"source_system_tab\"].map(mapmap)\n",
    "test[\"source_system_tab\"]=test[\"source_system_tab\"].map(mapmap)\n",
    "train[\"source_system_tab\"]=train[\"source_system_tab\"].fillna(0)\n",
    "test[\"source_system_tab\"]=test[\"source_system_tab\"].fillna(0)"
   ]
  },
  {
   "cell_type": "code",
   "execution_count": 59,
   "metadata": {},
   "outputs": [],
   "source": [
    "temp=pd.concat([train['source_screen_name'],test['source_screen_name']],axis=0)\n",
    "temp = temp.value_counts().rename_axis('source_screen_name').reset_index(name='Number')\n",
    "mapmap={}\n",
    "for i in range(temp.shape[0]):\n",
    "    mapmap[temp[\"source_screen_name\"][i]]=i+1\n",
    "train[\"source_screen_name\"]=train[\"source_screen_name\"].map(mapmap)\n",
    "test[\"source_screen_name\"]=test[\"source_screen_name\"].map(mapmap)\n",
    "train[\"source_screen_name\"]=train[\"source_screen_name\"].fillna(0)\n",
    "test[\"source_screen_name\"]=test[\"source_screen_name\"].fillna(0)"
   ]
  },
  {
   "cell_type": "code",
   "execution_count": 60,
   "metadata": {},
   "outputs": [],
   "source": [
    "temp=pd.concat([train['source_type'],test['source_type']],axis=0)\n",
    "temp = temp.value_counts().rename_axis('source_type').reset_index(name='Number')\n",
    "mapmap={}\n",
    "for i in range(temp.shape[0]):\n",
    "    mapmap[temp[\"source_type\"][i]]=i+1\n",
    "train[\"source_type\"]=train[\"source_type\"].map(mapmap)\n",
    "test[\"source_type\"]=test[\"source_type\"].map(mapmap)\n",
    "train[\"source_type\"]=train[\"source_type\"].fillna(0)\n",
    "test[\"source_type\"]=test[\"source_type\"].fillna(0)"
   ]
  },
  {
   "cell_type": "code",
   "execution_count": 61,
   "metadata": {},
   "outputs": [],
   "source": [
    "temp=pd.concat([train['song_id'],test['song_id']],axis=0)\n",
    "temp = temp.value_counts().rename_axis('song_id').reset_index(name='Number')\n",
    "mapmap={}\n",
    "for i in range(temp.shape[0]):\n",
    "    mapmap[temp[\"song_id\"][i]]=i+1\n",
    "train[\"song_id\"]=train[\"song_id\"].map(mapmap)\n",
    "test[\"song_id\"]=test[\"song_id\"].map(mapmap)\n",
    "train[\"song_id\"]=train[\"song_id\"].fillna(0)\n",
    "test[\"song_id\"]=test[\"song_id\"].fillna(0)"
   ]
  },
  {
   "cell_type": "code",
   "execution_count": 62,
   "metadata": {},
   "outputs": [],
   "source": [
    "temp=pd.concat([train['msno'],test['msno']],axis=0)\n",
    "temp = temp.value_counts().rename_axis('msno').reset_index(name='Number')\n",
    "mapmap={}\n",
    "for i in range(temp.shape[0]):\n",
    "    mapmap[temp[\"msno\"][i]]=i+1\n",
    "train[\"msno\"]=train[\"msno\"].map(mapmap)\n",
    "test[\"msno\"]=test[\"msno\"].map(mapmap)\n",
    "train[\"msno\"]=train[\"msno\"].fillna(0)\n",
    "test[\"msno\"]=test[\"msno\"].fillna(0)"
   ]
  },
  {
   "cell_type": "code",
   "execution_count": 63,
   "metadata": {},
   "outputs": [],
   "source": [
    "temp=pd.concat([train['artist_name'],test['artist_name']],axis=0)\n",
    "temp = temp.value_counts().rename_axis('artist_name').reset_index(name='Number')\n",
    "mapmap={}\n",
    "for i in range(temp.shape[0]):\n",
    "    mapmap[temp[\"artist_name\"][i]]=i+1\n",
    "train[\"artist_name\"]=train[\"artist_name\"].map(mapmap)\n",
    "test[\"artist_name\"]=test[\"artist_name\"].map(mapmap)\n",
    "train[\"artist_name\"]=train[\"artist_name\"].fillna(0)\n",
    "test[\"artist_name\"]=test[\"artist_name\"].fillna(0)"
   ]
  },
  {
   "cell_type": "code",
   "execution_count": 64,
   "metadata": {},
   "outputs": [],
   "source": [
    "temp=pd.concat([train['composer'],test['composer']],axis=0)\n",
    "temp = temp.value_counts().rename_axis('composer').reset_index(name='Number')\n",
    "mapmap={}\n",
    "for i in range(temp.shape[0]):\n",
    "    mapmap[temp[\"composer\"][i]]=i+1\n",
    "train[\"composer\"]=train[\"composer\"].map(mapmap)\n",
    "test[\"composer\"]=test[\"composer\"].map(mapmap)\n",
    "train[\"composer\"]=train[\"composer\"].fillna(0)\n",
    "test[\"composer\"]=test[\"composer\"].fillna(0)"
   ]
  },
  {
   "cell_type": "code",
   "execution_count": 65,
   "metadata": {},
   "outputs": [],
   "source": [
    "temp=pd.concat([train['genre_ids'],test['genre_ids']],axis=0)\n",
    "temp = temp.value_counts().rename_axis('genre_ids').reset_index(name='Number')\n",
    "mapmap={}\n",
    "for i in range(temp.shape[0]):\n",
    "    mapmap[temp[\"genre_ids\"][i]]=i+1\n",
    "train[\"genre_ids\"]=train[\"genre_ids\"].map(mapmap)\n",
    "test[\"genre_ids\"]=test[\"genre_ids\"].map(mapmap)\n",
    "train[\"genre_ids\"]=train[\"genre_ids\"].fillna(0)\n",
    "test[\"genre_ids\"]=test[\"genre_ids\"].fillna(0)"
   ]
  },
  {
   "cell_type": "code",
   "execution_count": 66,
   "metadata": {},
   "outputs": [],
   "source": [
    "temp=pd.concat([train['lyricist'],test['lyricist']],axis=0)\n",
    "temp = temp.value_counts().rename_axis('lyricist').reset_index(name='Number')\n",
    "mapmap={}\n",
    "for i in range(temp.shape[0]):\n",
    "    mapmap[temp[\"lyricist\"][i]]=i+1\n",
    "train[\"lyricist\"]=train[\"lyricist\"].map(mapmap)\n",
    "test[\"lyricist\"]=test[\"lyricist\"].map(mapmap)\n",
    "train[\"lyricist\"]=train[\"lyricist\"].fillna(0)\n",
    "test[\"lyricist\"]=test[\"lyricist\"].fillna(0)"
   ]
  },
  {
   "cell_type": "code",
   "execution_count": 67,
   "metadata": {},
   "outputs": [],
   "source": [
    "column_list=list(train.columns.values)\n",
    "column_list.remove('target')\n",
    "target=train.drop(column_list, axis=1)\n",
    "train=train.drop([\"target\"], axis=1)"
   ]
  },
  {
   "cell_type": "code",
   "execution_count": 68,
   "metadata": {},
   "outputs": [],
   "source": [
    "train.to_csv(\"data_processed/train.csv\", encoding='utf_8_sig')\n",
    "test.to_csv(\"data_processed/test.csv\", encoding='utf_8_sig')\n",
    "target.to_csv(\"data_processed/target.csv\", encoding='utf_8_sig')"
   ]
  },
  {
   "cell_type": "code",
   "execution_count": null,
   "metadata": {},
   "outputs": [],
   "source": []
  }
 ],
 "metadata": {
  "kernelspec": {
   "display_name": "Python 3",
   "language": "python",
   "name": "python3"
  },
  "language_info": {
   "codemirror_mode": {
    "name": "ipython",
    "version": 3
   },
   "file_extension": ".py",
   "mimetype": "text/x-python",
   "name": "python",
   "nbconvert_exporter": "python",
   "pygments_lexer": "ipython3",
   "version": "3.5.5"
  }
 },
 "nbformat": 4,
 "nbformat_minor": 2
}
