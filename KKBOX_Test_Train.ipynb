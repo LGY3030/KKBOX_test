{
 "cells": [
  {
   "cell_type": "code",
   "execution_count": 17,
   "metadata": {},
   "outputs": [],
   "source": [
    "from keras.utils import np_utils\n",
    "import numpy as np\n",
    "import pandas as pd\n",
    "from keras.models import Sequential\n",
    "from keras.layers import Dense,Dropout\n",
    "from keras.optimizers import Adam\n",
    "import matplotlib.pyplot as plt"
   ]
  },
  {
   "cell_type": "code",
   "execution_count": 18,
   "metadata": {},
   "outputs": [],
   "source": [
    "train=pd.read_csv(\"data_processed/train.csv\")\n",
    "test=pd.read_csv(\"data_processed/test.csv\")\n",
    "target=pd.read_csv(\"data_processed/target.csv\")\n",
    "train=train.fillna(0)\n",
    "target=target.fillna(0)\n",
    "test=test.fillna(0)"
   ]
  },
  {
   "cell_type": "code",
   "execution_count": 19,
   "metadata": {},
   "outputs": [],
   "source": [
    "train=train.drop([\"Unnamed: 0\"], axis=1)\n",
    "test=test.drop([\"Unnamed: 0\"], axis=1)\n",
    "target=target.drop([\"Unnamed: 0\"], axis=1)"
   ]
  },
  {
   "cell_type": "code",
   "execution_count": 20,
   "metadata": {},
   "outputs": [
    {
     "name": "stderr",
     "output_type": "stream",
     "text": [
      "C:\\Users\\admin\\Anaconda3\\envs\\tensorflow\\lib\\site-packages\\ipykernel_launcher.py:1: FutureWarning: convert_objects is deprecated.  To re-infer data dtypes for object columns, use DataFrame.infer_objects()\n",
      "For all other conversions use the data-type specific converters pd.to_datetime, pd.to_timedelta and pd.to_numeric.\n",
      "  \"\"\"Entry point for launching an IPython kernel.\n",
      "C:\\Users\\admin\\Anaconda3\\envs\\tensorflow\\lib\\site-packages\\ipykernel_launcher.py:2: FutureWarning: convert_objects is deprecated.  To re-infer data dtypes for object columns, use DataFrame.infer_objects()\n",
      "For all other conversions use the data-type specific converters pd.to_datetime, pd.to_timedelta and pd.to_numeric.\n",
      "  \n",
      "C:\\Users\\admin\\Anaconda3\\envs\\tensorflow\\lib\\site-packages\\ipykernel_launcher.py:3: FutureWarning: convert_objects is deprecated.  To re-infer data dtypes for object columns, use DataFrame.infer_objects()\n",
      "For all other conversions use the data-type specific converters pd.to_datetime, pd.to_timedelta and pd.to_numeric.\n",
      "  This is separate from the ipykernel package so we can avoid doing imports until\n"
     ]
    }
   ],
   "source": [
    "train=train.convert_objects(convert_numeric=True)\n",
    "test=test.convert_objects(convert_numeric=True)\n",
    "target=target.convert_objects(convert_numeric=True)"
   ]
  },
  {
   "cell_type": "code",
   "execution_count": 21,
   "metadata": {},
   "outputs": [],
   "source": [
    "train=(train-train.mean())/train.std()\n",
    "test=(test-test.mean())/test.std()"
   ]
  },
  {
   "cell_type": "code",
   "execution_count": 22,
   "metadata": {},
   "outputs": [],
   "source": [
    "train=np.array(train)\n",
    "test=np.array(test)\n",
    "target=np.array(target)\n",
    "target=target.reshape(-1)"
   ]
  },
  {
   "cell_type": "code",
   "execution_count": 23,
   "metadata": {},
   "outputs": [
    {
     "name": "stdout",
     "output_type": "stream",
     "text": [
      "_________________________________________________________________\n",
      "Layer (type)                 Output Shape              Param #   \n",
      "=================================================================\n",
      "dense_4 (Dense)              (None, 40)                960       \n",
      "_________________________________________________________________\n",
      "dense_5 (Dense)              (None, 30)                1230      \n",
      "_________________________________________________________________\n",
      "dense_6 (Dense)              (None, 1)                 31        \n",
      "=================================================================\n",
      "Total params: 2,221\n",
      "Trainable params: 2,221\n",
      "Non-trainable params: 0\n",
      "_________________________________________________________________\n",
      "Train on 6639676 samples, validate on 737742 samples\n",
      "Epoch 1/2\n",
      "6639676/6639676 [==============================] - 172s 26us/step - loss: 0.6387 - acc: 0.6419 - val_loss: 0.6641 - val_acc: 0.5944\n",
      "Epoch 2/2\n",
      "6639676/6639676 [==============================] - 172s 26us/step - loss: 0.6304 - acc: 0.6501 - val_loss: 0.6621 - val_acc: 0.6005\n"
     ]
    },
    {
     "data": {
      "text/plain": [
       "<Figure size 432x288 with 0 Axes>"
      ]
     },
     "metadata": {},
     "output_type": "display_data"
    }
   ],
   "source": [
    "model=Sequential()\n",
    "model.add(Dense(units=100,input_dim=23,kernel_initializer='uniform',activation='relu'))\n",
    "model.add(Dropout(0.1))\n",
    "model.add(Dense(units=50,kernel_initializer='uniform',activation='relu'))\n",
    "model.add(Dense(units=1,kernel_initializer='uniform',activation='sigmoid'))\n",
    "model.summary()\n",
    "model.compile(loss='binary_crossentropy',optimizer=Adam(lr=0.0005),metrics=['accuracy'])\n",
    "train_history=model.fit(x=train,y=target,validation_split=0.1,epochs=30,batch_size=30,verbose=1)\n",
    "def show_train_history(train_history,train,validation):\n",
    "    plt.plot(train_history.history[train])\n",
    "    plt.plot(train_history.history[validation])\n",
    "    plt.title('Train History')\n",
    "    plt.ylabel(train)\n",
    "    plt.xlabel('Epoch')\n",
    "    plt.legend(['train','validation'],loc='upper left')\n",
    "    plt.savefig('result.jpg')\n",
    "    plt.clf()\n",
    "show_train_history(train_history,'acc','val_acc')\n",
    "show_train_history(train_history,'loss','val_loss')\n",
    "result=pd.DataFrame({'acc':train_history.history['acc'],'val_acc':train_history.history['val_acc'],'loss':train_history.history['loss'],'val_loss':train_history.history['val_loss']})\n",
    "result.to_csv(\"target.csv\", encoding='utf_8_sig')\n",
    "model.save('model.h5')"
   ]
  },
  {
   "cell_type": "code",
   "execution_count": null,
   "metadata": {},
   "outputs": [],
   "source": []
  }
 ],
 "metadata": {
  "kernelspec": {
   "display_name": "Python 3",
   "language": "python",
   "name": "python3"
  },
  "language_info": {
   "codemirror_mode": {
    "name": "ipython",
    "version": 3
   },
   "file_extension": ".py",
   "mimetype": "text/x-python",
   "name": "python",
   "nbconvert_exporter": "python",
   "pygments_lexer": "ipython3",
   "version": "3.5.5"
  }
 },
 "nbformat": 4,
 "nbformat_minor": 2
}
